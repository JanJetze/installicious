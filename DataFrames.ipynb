{
 "cells": [
  {
   "cell_type": "code",
   "execution_count": 1,
   "metadata": {
    "collapsed": true
   },
   "outputs": [],
   "source": [
    "import feather\n",
    "import numpy as np\n",
    "import pandas as pd\n",
    "import matplotlib.pyplot as plt\n",
    "from pandas.tools.plotting import scatter_matrix\n",
    "from pprint import pprint\n",
    "import scipy as sp\n",
    "\n",
    "# For reasons of privacy, the raw data (and the final dataframes) are not added to the github repository\n",
    "FILE_PATH = '../data_science_case/'"
   ]
  },
  {
   "cell_type": "code",
   "execution_count": 2,
   "metadata": {
    "collapsed": true
   },
   "outputs": [],
   "source": [
    "anp_df = feather.read_dataframe(FILE_PATH + 'anp.feather')\n",
    "face_df = feather.read_dataframe(FILE_PATH + 'face.feather')\n",
    "image_df = feather.read_dataframe(FILE_PATH + 'image_data.feather')\n",
    "metrics_df = feather.read_dataframe(FILE_PATH + 'image_metrics.feather')\n",
    "object_labels_df = feather.read_dataframe(FILE_PATH + 'object_labels.feather')\n",
    "survey_df = feather.read_dataframe(FILE_PATH + 'survey.feather')"
   ]
  },
  {
   "cell_type": "code",
   "execution_count": 3,
   "metadata": {
    "collapsed": true
   },
   "outputs": [],
   "source": [
    "# Merge them based on the image_id so that we have a large data frame containing all the elements\n",
    "\n",
    "image_anp_frame = pd.merge(image_df, anp_df, how='inner', on='image_id')\n",
    "im_anp_obj_frame = pd.merge(image_anp_frame, object_labels_df, how='inner', on='image_id')\n",
    "im_anp_obj_face_frame = pd.merge(im_anp_obj_frame, face_df, how='inner', on='image_id')"
   ]
  },
  {
   "cell_type": "code",
   "execution_count": 4,
   "metadata": {
    "collapsed": true
   },
   "outputs": [],
   "source": [
    "image_frame = im_anp_obj_face_frame.drop_duplicates().reset_index()"
   ]
  },
  {
   "cell_type": "code",
   "execution_count": 5,
   "metadata": {
    "collapsed": true
   },
   "outputs": [],
   "source": [
    "selfies_columns = ['anp_label',\n",
    "                   'data_amz_label',\n",
    "                   'image_id',\n",
    "                   'face_sunglasses', \n",
    "                   'face_beard', \n",
    "                   'face_mustache',\n",
    "                   'eyeglasses', \n",
    "                   'user_followed_by', \n",
    "                   'user_follows',\n",
    "                   'user_posted_photos',\n",
    "                   'user_id',\n",
    "                   'face_id',\n",
    "                   'emotion_score']\n",
    "image_frame = image_frame[selfies_columns]"
   ]
  },
  {
   "cell_type": "code",
   "execution_count": 6,
   "metadata": {
    "collapsed": true
   },
   "outputs": [],
   "source": [
    "survey_df['P'] = survey_df.apply(lambda row: np.mean([row['P_1'], row['P_2'], row['P_3']]), axis=1)\n",
    "survey_df['E'] = survey_df.apply(lambda row: np.mean([row['E_1'], row['E_2'], row['E_3']]), axis=1)\n",
    "survey_df['R'] = survey_df.apply(lambda row: np.mean([row['R_1'], row['R_2'], row['R_3']]), axis=1)\n",
    "survey_df['M'] = survey_df.apply(lambda row: np.mean([row['M_1'], row['M_2'], row['M_3']]), axis=1)\n",
    "survey_df['A'] = survey_df.apply(lambda row: np.mean([row['A_1'], row['A_2'], row['A_3']]), axis=1)\n",
    "survey_df['H'] = survey_df.apply(lambda row: np.mean([row['H_1'], row['H_2'], row['H_3']]), axis=1)\n",
    "survey_df['PERMA'] = survey_df.apply(lambda row: np.mean([row['P'], row['E'], row['R'], row['M'], row['A']]), axis=1)"
   ]
  },
  {
   "cell_type": "code",
   "execution_count": 7,
   "metadata": {
    "collapsed": true
   },
   "outputs": [],
   "source": [
    "image_frame['user_id'] = image_frame['user_id'].astype(int)\n",
    "both= pd.merge(left=image_frame, right= survey_df, on=None, left_on= \"user_id\", right_on=\"insta_user_id\")"
   ]
  },
  {
   "cell_type": "code",
   "execution_count": 8,
   "metadata": {
    "collapsed": true
   },
   "outputs": [],
   "source": [
    "selfies_columns = ['PERMA',\n",
    "                   'anp_label',\n",
    "                   'data_amz_label',\n",
    "                   'image_id',\n",
    "                   'face_sunglasses', \n",
    "                   'face_beard', \n",
    "                   'face_mustache',\n",
    "                   'eyeglasses', \n",
    "                   'user_followed_by', \n",
    "                   'user_follows',\n",
    "                   'user_posted_photos',\n",
    "                   'insta_user_id',\n",
    "                   'gender',\n",
    "                   'born',\n",
    "                   'emotion_score',\n",
    "                   'education',\n",
    "                   'income',\n",
    "                   'face_id',\n",
    "                   'P', 'E', 'R', 'M', 'A', 'H']"
   ]
  },
  {
   "cell_type": "code",
   "execution_count": 9,
   "metadata": {
    "collapsed": true
   },
   "outputs": [],
   "source": [
    "income_dict = {\n",
    "    'Less than $10,000': 5000,\n",
    "    '$10,000 to $19,999': 15000,\n",
    "    '$20,000 to $29,999': 25000,\n",
    "    '$30,000 to $39,999': 35000,\n",
    "    '$40,000 to $49,999': 45000,\n",
    "    '$50,000 to $59,999': 55000,\n",
    "    '$60,000 to $69,999': 65000,\n",
    "    '$70,000 to $79,999': 75000,\n",
    "    '$80,000 to $89,999': 85000,\n",
    "    '$90,000 to $99,999': 95000,\n",
    "    '$100,000 to $149,999': 125000,\n",
    "    '$150,000 or more': 150000\n",
    "}"
   ]
  },
  {
   "cell_type": "code",
   "execution_count": 10,
   "metadata": {
    "collapsed": true
   },
   "outputs": [],
   "source": [
    "amz_labels = ['Afro Hairstyle', 'Blonde', 'Dimples', 'Hat', 'Tattoo', 'Cap', 'Headband']\n",
    "anp_labels = ['plastic_surgery', 'dark_skin', 'mixed_race']"
   ]
  },
  {
   "cell_type": "code",
   "execution_count": 11,
   "metadata": {
    "collapsed": true
   },
   "outputs": [],
   "source": [
    "selfie_ids = both.loc[both['data_amz_label'] == 'Selfie', 'image_id'].unique()\n",
    "selfies = both[both['image_id'].isin(selfie_ids)][selfies_columns]\n",
    "\n",
    "selfies = selfies[selfies['income'] != 'I\\'d rather not disclose this information']\n",
    "\n",
    "selfies['female'] = np.where(selfies['gender'] == 'Female', True, False)\n",
    "\n",
    "selfies['Afro_Hairstyle'] = np.where(selfies['data_amz_label'] == 'Afro Hairstyle', True, False)\n",
    "selfies['Hat'] = np.where(selfies['data_amz_label'].isin(['Hat', 'Cap', 'Headband']), True, False)\n",
    "selfies['Tattoo'] = np.where(selfies['data_amz_label'] == 'Tattoo', True, False)\n",
    "selfies['Blonde'] = np.where(selfies['data_amz_label'] == 'Blonde', True, False)\n",
    "selfies['Dimples'] = np.where(selfies['data_amz_label'] == 'Dimples', True, False)\n",
    "selfies['Plastic_surgery'] = np.where(selfies['anp_label'] == 'plastic_surgery', True, False)\n",
    "selfies['Dark_skin'] = np.where(selfies['anp_label'] == 'dark_skin', True, False)\n",
    "selfies['mixed_race'] = np.where(selfies['anp_label'] == 'mixed_race', True, False)\n",
    "selfies['college'] = np.where(selfies['education'] == 'College graduate', True, False)\n",
    "selfies['high_school'] = np.where(selfies['education'] == 'High school graduate', True, False)\n",
    "selfies['post_graduate'] = np.where(selfies['education'] == 'Post graduate degree', True, False)\n",
    "selfies['born'] = selfies.apply(lambda row: 2017 - row['born'], axis=1)\n",
    "selfies['Facial_Hair'] = selfies.apply(lambda row: True if row['face_beard'] == True else (True if row['face_mustache'] == True else False), axis=1)\n",
    "\n",
    "selfies['income'] = selfies.apply(lambda row: income_dict[row['income']], axis=1)\n",
    "del selfies['gender']\n",
    "del selfies['education']\n",
    "selfies.drop_duplicates(inplace=True)"
   ]
  },
  {
   "cell_type": "code",
   "execution_count": 12,
   "metadata": {
    "collapsed": true
   },
   "outputs": [],
   "source": [
    "selfies = selfies[selfies['insta_user_id'] != 703978203]\n",
    "selfies = selfies[selfies['insta_user_id'] != 1556973431]\n",
    "selfies = selfies[selfies['insta_user_id'] != 2248592884]\n",
    "selfies = selfies.reset_index()"
   ]
  },
  {
   "cell_type": "code",
   "execution_count": 13,
   "metadata": {
    "collapsed": true
   },
   "outputs": [],
   "source": [
    "selfies = selfies.groupby('image_id', as_index=False).agg({\n",
    "    'emotion_score': 'mean',\n",
    "    'Afro_Hairstyle': 'max',\n",
    "    'Hat': 'max',\n",
    "    'Tattoo': 'max',\n",
    "    'Blonde': 'max',\n",
    "    'Dimples': 'max',\n",
    "    'Plastic_surgery': 'max',\n",
    "    'Dark_skin': 'max',\n",
    "    'mixed_race': 'max',\n",
    "    'face_sunglasses': 'max',\n",
    "    'face_beard': 'max',\n",
    "    'face_mustache': 'max',\n",
    "    'Facial_Hair': 'max',\n",
    "    'eyeglasses': 'max',\n",
    "    'PERMA': 'max',\n",
    "    'user_followed_by': 'max',\n",
    "    'user_follows': 'max',\n",
    "    'user_posted_photos': 'max',\n",
    "    'insta_user_id': 'max',\n",
    "    'born': 'max',\n",
    "    'income': 'max',\n",
    "    'female': 'max',\n",
    "    'college': 'max',\n",
    "    'high_school': 'max',\n",
    "    'post_graduate': 'max',\n",
    "    'P': 'max',\n",
    "    'E': 'max',\n",
    "    'R': 'max',\n",
    "    'M': 'max',\n",
    "    'A': 'max',\n",
    "    'H': 'max',\n",
    "})"
   ]
  },
  {
   "cell_type": "code",
   "execution_count": 14,
   "metadata": {
    "collapsed": true
   },
   "outputs": [],
   "source": [
    "users = selfies.groupby('insta_user_id', as_index=False).agg({\n",
    "    'face_sunglasses': 'max',\n",
    "    'Facial_Hair': 'max',\n",
    "    'eyeglasses': 'max',\n",
    "    'PERMA': 'max',\n",
    "    'Afro_Hairstyle': 'max',\n",
    "    'Hat': 'max',\n",
    "    'Tattoo': 'max',\n",
    "    'Blonde': 'max',\n",
    "    'Dimples': 'max',\n",
    "    'Plastic_surgery': 'max',\n",
    "    'Dark_skin': 'max',\n",
    "    'mixed_race': 'max',\n",
    "    'user_followed_by': 'max',\n",
    "    'user_follows': 'max',\n",
    "    'user_posted_photos': 'max',\n",
    "    'born': 'max',\n",
    "    'income': 'max',\n",
    "    'female': 'max',\n",
    "    'college': 'max',\n",
    "    'high_school': 'max',\n",
    "    'post_graduate': 'max',\n",
    "    'emotion_score': 'mean',\n",
    "    'P': 'max',\n",
    "    'E': 'max',\n",
    "    'R': 'max',\n",
    "    'M': 'max',\n",
    "    'A': 'max',\n",
    "    'H': 'max'\n",
    "})"
   ]
  },
  {
   "cell_type": "code",
   "execution_count": 15,
   "metadata": {
    "collapsed": true
   },
   "outputs": [],
   "source": [
    "users['user_follows'] = users['user_follows'].astype(int)\n",
    "users['user_followed_by'] = users['user_followed_by'].astype(int)\n",
    "users['user_posted_photos'] = users['user_posted_photos'].astype(int)"
   ]
  },
  {
   "cell_type": "code",
   "execution_count": 16,
   "metadata": {
    "collapsed": true
   },
   "outputs": [],
   "source": [
    "selfies.to_csv('selfies_frame.csv', sep=';', encoding='utf-8')"
   ]
  },
  {
   "cell_type": "code",
   "execution_count": 17,
   "metadata": {
    "collapsed": true
   },
   "outputs": [],
   "source": [
    "users.to_csv('users_frame.csv', sep=';', encoding='utf-8')"
   ]
  },
  {
   "cell_type": "code",
   "execution_count": 18,
   "metadata": {
    "collapsed": true
   },
   "outputs": [],
   "source": [
    "survey_df.to_csv('survey_frame.csv', sep=';', encoding='utf-8')"
   ]
  }
 ],
 "metadata": {
  "kernelspec": {
   "display_name": "Python 2",
   "language": "python",
   "name": "python2"
  },
  "language_info": {
   "codemirror_mode": {
    "name": "ipython",
    "version": 2
   },
   "file_extension": ".py",
   "mimetype": "text/x-python",
   "name": "python",
   "nbconvert_exporter": "python",
   "pygments_lexer": "ipython2",
   "version": "2.7.12"
  }
 },
 "nbformat": 4,
 "nbformat_minor": 2
}
