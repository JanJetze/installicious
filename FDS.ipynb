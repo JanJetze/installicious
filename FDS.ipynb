{
 "cells": [
  {
   "cell_type": "code",
   "execution_count": 18,
   "metadata": {
    "collapsed": true
   },
   "outputs": [],
   "source": [
    "import numpy as np\n",
    "import pandas as pd\n",
    "import matplotlib.pyplot as plt\n",
    "from pandas.tools.plotting import scatter_matrix\n",
    "from pprint import pprint\n",
    "import scipy as sp"
   ]
  },
  {
   "cell_type": "code",
   "execution_count": 19,
   "metadata": {
    "collapsed": true
   },
   "outputs": [],
   "source": [
    "PATH = '../'\n",
    "images = pd.read_csv(PATH + \"image_frame.csv\", sep= \";\")\n",
    "\n",
    "# print images.head()\n",
    "survey = pd.read_csv(PATH + \"survey_frame.csv\", delimiter= \";\")\n",
    "# print survey.head()\n",
    "# print images[[\"user_id\"]]\n",
    "\n",
    "# print survey.loc[[4],[\"insta_user_id\"]]\n",
    "\n",
    "both= pd.merge(left=images, right= survey, on=None, left_on= \"user_id\", right_on=\"insta_user_id\")\n",
    "# print images.user_id.value_counts()\n",
    "# print survey.insta_user_id.value_counts()\n",
    "\n",
    "# print survey.insta_user_id.value_counts()\n",
    "# print both"
   ]
  },
  {
   "cell_type": "code",
   "execution_count": 20,
   "metadata": {},
   "outputs": [
    {
     "name": "stdout",
     "output_type": "stream",
     "text": [
      "(2464794, 30)\n",
      "(332, 46)\n",
      "(2564457, 76)\n"
     ]
    }
   ],
   "source": [
    "print images.shape\n",
    "print survey.shape\n",
    "print both.shape"
   ]
  },
  {
   "cell_type": "code",
   "execution_count": 21,
   "metadata": {
    "collapsed": true
   },
   "outputs": [],
   "source": [
    "both_dropped = both.dropna(axis=0, how='any', thresh=None, subset=None, inplace=False)"
   ]
  },
  {
   "cell_type": "code",
   "execution_count": 22,
   "metadata": {},
   "outputs": [
    {
     "name": "stdout",
     "output_type": "stream",
     "text": [
      "(2550477, 76)\n"
     ]
    }
   ],
   "source": [
    "print both_dropped.shape"
   ]
  },
  {
   "cell_type": "code",
   "execution_count": 23,
   "metadata": {
    "collapsed": true
   },
   "outputs": [],
   "source": [
    "del both_dropped['Unnamed: 0_x']"
   ]
  },
  {
   "cell_type": "code",
   "execution_count": 24,
   "metadata": {
    "collapsed": true
   },
   "outputs": [],
   "source": [
    "both_dropped.set_index('user_id', inplace=True)"
   ]
  },
  {
   "cell_type": "code",
   "execution_count": 25,
   "metadata": {},
   "outputs": [
    {
     "name": "stdout",
     "output_type": "stream",
     "text": [
      "(2550477, 74)\n"
     ]
    },
    {
     "data": {
      "text/plain": [
       "Index([u'index', u'image_id', u'image_filter', u'user_followed_by',\n",
       "       u'user_follows', u'user_posted_photos', u'anp_label', u'anp_sentiment',\n",
       "       u'emotion_score', u'emotion_label', u'data_amz_label',\n",
       "       u'data_amz_label_confidence', u'face_id', u'face_gender',\n",
       "       u'face_gender_confidence', u'face_age_range_high',\n",
       "       u'face_age_range_low', u'face_sunglasses', u'face_beard',\n",
       "       u'face_beard_confidence', u'face_mustache', u'face_mustache_confidence',\n",
       "       u'face_smile', u'face_smile_confidence', u'eyeglasses',\n",
       "       u'eyeglasses_confidence', u'face_emo', u'emo_confidence',\n",
       "       u'Unnamed: 0_y', u'id', u'gender', u'born', u'education', u'employed',\n",
       "       u'income', u'A_2', u'N_1', u'P_1', u'E_1', u'A_1', u'H_1', u'M_1',\n",
       "       u'R_1', u'M_2', u'E_2', u'LON', u'H_2', u'P_2', u'N_2', u'A_3', u'N_3',\n",
       "       u'E_3', u'H_3', u'R_2', u'M_3', u'R_3', u'P_3', u'HAP', u'participate',\n",
       "       u'insta_user_id', u'completed', u'start_q', u'end_q', u'network_id',\n",
       "       u'P', u'E', u'R', u'M', u'A', u'PERMA', u'N_EMO', u'P_EMO',\n",
       "       u'imagecount', u'private_account'],\n",
       "      dtype='object')"
      ]
     },
     "execution_count": 25,
     "metadata": {},
     "output_type": "execute_result"
    }
   ],
   "source": [
    "print both_dropped.shape\n",
    "both_dropped.columns"
   ]
  },
  {
   "cell_type": "code",
   "execution_count": 26,
   "metadata": {
    "collapsed": true
   },
   "outputs": [],
   "source": [
    "del both_dropped['P_1']\n",
    "del both_dropped['P_2']\n",
    "del both_dropped['P_3']\n",
    "del both_dropped['E_1']\n",
    "del both_dropped['E_2']\n",
    "del both_dropped['E_3']\n",
    "del both_dropped['R_1']\n",
    "del both_dropped['R_2']\n",
    "del both_dropped['R_3']\n",
    "del both_dropped['M_1']\n",
    "del both_dropped['M_2']\n",
    "del both_dropped['M_3']\n",
    "del both_dropped['A_1']\n",
    "del both_dropped['A_2']\n",
    "del both_dropped['A_3']\n",
    "del both_dropped['P']\n",
    "del both_dropped['E']\n",
    "del both_dropped['R']\n",
    "del both_dropped['M']\n",
    "del both_dropped['A']"
   ]
  },
  {
   "cell_type": "code",
   "execution_count": 27,
   "metadata": {},
   "outputs": [
    {
     "name": "stdout",
     "output_type": "stream",
     "text": [
      "(2550477, 54)\n",
      "Index([u'index', u'image_id', u'image_filter', u'user_followed_by',\n",
      "       u'user_follows', u'user_posted_photos', u'anp_label', u'anp_sentiment',\n",
      "       u'emotion_score', u'emotion_label', u'data_amz_label',\n",
      "       u'data_amz_label_confidence', u'face_id', u'face_gender',\n",
      "       u'face_gender_confidence', u'face_age_range_high',\n",
      "       u'face_age_range_low', u'face_sunglasses', u'face_beard',\n",
      "       u'face_beard_confidence', u'face_mustache', u'face_mustache_confidence',\n",
      "       u'face_smile', u'face_smile_confidence', u'eyeglasses',\n",
      "       u'eyeglasses_confidence', u'face_emo', u'emo_confidence',\n",
      "       u'Unnamed: 0_y', u'id', u'gender', u'born', u'education', u'employed',\n",
      "       u'income', u'N_1', u'H_1', u'LON', u'H_2', u'N_2', u'N_3', u'H_3',\n",
      "       u'HAP', u'participate', u'insta_user_id', u'completed', u'start_q',\n",
      "       u'end_q', u'network_id', u'PERMA', u'N_EMO', u'P_EMO', u'imagecount',\n",
      "       u'private_account'],\n",
      "      dtype='object')\n"
     ]
    }
   ],
   "source": [
    "print both_dropped.shape\n",
    "print both_dropped.columns"
   ]
  },
  {
   "cell_type": "code",
   "execution_count": 28,
   "metadata": {},
   "outputs": [
    {
     "data": {
      "text/plain": [
       "(2550477, 54)"
      ]
     },
     "execution_count": 28,
     "metadata": {},
     "output_type": "execute_result"
    }
   ],
   "source": [
    "both_dropped.shape"
   ]
  },
  {
   "cell_type": "code",
   "execution_count": 29,
   "metadata": {
    "collapsed": true
   },
   "outputs": [],
   "source": [
    "both_dropped = both_dropped.drop_duplicates()"
   ]
  },
  {
   "cell_type": "code",
   "execution_count": 30,
   "metadata": {
    "scrolled": true
   },
   "outputs": [
    {
     "name": "stdout",
     "output_type": "stream",
     "text": [
      "(2550477, 11)\n",
      "(23192, 11)\n"
     ]
    }
   ],
   "source": [
    "both_dropped.dtypes\n",
    "bool_df = both_dropped[['insta_user_id','image_id','face_sunglasses', 'face_beard','face_mustache' ,'face_smile', 'eyeglasses','PERMA', 'user_followed_by', 'user_follows', 'user_posted_photos' ]]\n",
    "bool_df\n",
    "bool_df_dropped = bool_df.drop_duplicates()\n",
    "print bool_df.shape\n",
    "print bool_df_dropped.shape"
   ]
  },
  {
   "cell_type": "code",
   "execution_count": 31,
   "metadata": {},
   "outputs": [
    {
     "data": {
      "text/html": [
       "<div>\n",
       "<style>\n",
       "    .dataframe thead tr:only-child th {\n",
       "        text-align: right;\n",
       "    }\n",
       "\n",
       "    .dataframe thead th {\n",
       "        text-align: left;\n",
       "    }\n",
       "\n",
       "    .dataframe tbody tr th {\n",
       "        vertical-align: top;\n",
       "    }\n",
       "</style>\n",
       "<table border=\"1\" class=\"dataframe\">\n",
       "  <thead>\n",
       "    <tr style=\"text-align: right;\">\n",
       "      <th></th>\n",
       "      <th>insta_user_id</th>\n",
       "      <th>eyeglasses</th>\n",
       "      <th>face_sunglasses</th>\n",
       "      <th>user_follows</th>\n",
       "      <th>face_mustache</th>\n",
       "      <th>PERMA</th>\n",
       "      <th>user_followed_by</th>\n",
       "      <th>face_beard</th>\n",
       "      <th>user_posted_photos</th>\n",
       "    </tr>\n",
       "  </thead>\n",
       "  <tbody>\n",
       "    <tr>\n",
       "      <th>0</th>\n",
       "      <td>1619510.0</td>\n",
       "      <td>0.542986</td>\n",
       "      <td>0.107089</td>\n",
       "      <td>814.0</td>\n",
       "      <td>0.123680</td>\n",
       "      <td>4.0</td>\n",
       "      <td>364.0</td>\n",
       "      <td>0.147813</td>\n",
       "      <td>2037.0</td>\n",
       "    </tr>\n",
       "    <tr>\n",
       "      <th>1</th>\n",
       "      <td>2829661.0</td>\n",
       "      <td>0.204082</td>\n",
       "      <td>0.163265</td>\n",
       "      <td>288.0</td>\n",
       "      <td>0.142857</td>\n",
       "      <td>8.0</td>\n",
       "      <td>198.0</td>\n",
       "      <td>0.122449</td>\n",
       "      <td>124.0</td>\n",
       "    </tr>\n",
       "    <tr>\n",
       "      <th>2</th>\n",
       "      <td>3069744.0</td>\n",
       "      <td>0.245421</td>\n",
       "      <td>0.095238</td>\n",
       "      <td>240.0</td>\n",
       "      <td>0.293040</td>\n",
       "      <td>7.0</td>\n",
       "      <td>311.0</td>\n",
       "      <td>0.344322</td>\n",
       "      <td>350.0</td>\n",
       "    </tr>\n",
       "    <tr>\n",
       "      <th>3</th>\n",
       "      <td>3988856.0</td>\n",
       "      <td>0.248408</td>\n",
       "      <td>0.133758</td>\n",
       "      <td>943.0</td>\n",
       "      <td>0.191083</td>\n",
       "      <td>10.0</td>\n",
       "      <td>732.0</td>\n",
       "      <td>0.235669</td>\n",
       "      <td>610.0</td>\n",
       "    </tr>\n",
       "    <tr>\n",
       "      <th>4</th>\n",
       "      <td>4185084.0</td>\n",
       "      <td>0.750000</td>\n",
       "      <td>0.000000</td>\n",
       "      <td>65.0</td>\n",
       "      <td>0.500000</td>\n",
       "      <td>6.0</td>\n",
       "      <td>24.0</td>\n",
       "      <td>0.750000</td>\n",
       "      <td>64.0</td>\n",
       "    </tr>\n",
       "  </tbody>\n",
       "</table>\n",
       "</div>"
      ],
      "text/plain": [
       "   insta_user_id  eyeglasses  face_sunglasses  user_follows  face_mustache  \\\n",
       "0      1619510.0    0.542986         0.107089         814.0       0.123680   \n",
       "1      2829661.0    0.204082         0.163265         288.0       0.142857   \n",
       "2      3069744.0    0.245421         0.095238         240.0       0.293040   \n",
       "3      3988856.0    0.248408         0.133758         943.0       0.191083   \n",
       "4      4185084.0    0.750000         0.000000          65.0       0.500000   \n",
       "\n",
       "   PERMA  user_followed_by  face_beard  user_posted_photos  \n",
       "0    4.0             364.0    0.147813              2037.0  \n",
       "1    8.0             198.0    0.122449               124.0  \n",
       "2    7.0             311.0    0.344322               350.0  \n",
       "3   10.0             732.0    0.235669               610.0  \n",
       "4    6.0              24.0    0.750000                64.0  "
      ]
     },
     "execution_count": 31,
     "metadata": {},
     "output_type": "execute_result"
    }
   ],
   "source": [
    "both_aggr = bool_df_dropped.groupby(\"insta_user_id\", as_index= False).agg({\"face_sunglasses\":\"mean\", \n",
    "                                                          \"face_beard\": \"mean\", \n",
    "                                                          \"face_mustache\":\"mean\",\n",
    "                                                          \"eyeglasses\": \"mean\",\n",
    "                                                          \"PERMA\": \"mean\",\n",
    "                                                         \"user_followed_by\": \"mean\",\n",
    "                                                         \"user_follows\": \"mean\",\n",
    "                                                         \"user_posted_photos\": \"mean\"})\n",
    "both_aggr.head()"
   ]
  },
  {
   "cell_type": "code",
   "execution_count": 32,
   "metadata": {},
   "outputs": [
    {
     "data": {
      "text/html": [
       "<div>\n",
       "<style>\n",
       "    .dataframe thead tr:only-child th {\n",
       "        text-align: right;\n",
       "    }\n",
       "\n",
       "    .dataframe thead th {\n",
       "        text-align: left;\n",
       "    }\n",
       "\n",
       "    .dataframe tbody tr th {\n",
       "        vertical-align: top;\n",
       "    }\n",
       "</style>\n",
       "<table border=\"1\" class=\"dataframe\">\n",
       "  <thead>\n",
       "    <tr style=\"text-align: right;\">\n",
       "      <th></th>\n",
       "      <th>insta_user_id</th>\n",
       "      <th>eyeglasses</th>\n",
       "      <th>face_sunglasses</th>\n",
       "      <th>user_follows</th>\n",
       "      <th>face_mustache</th>\n",
       "      <th>PERMA</th>\n",
       "      <th>user_followed_by</th>\n",
       "      <th>face_beard</th>\n",
       "      <th>user_posted_photos</th>\n",
       "    </tr>\n",
       "  </thead>\n",
       "  <tbody>\n",
       "    <tr>\n",
       "      <th>insta_user_id</th>\n",
       "      <td>1.000000</td>\n",
       "      <td>0.163555</td>\n",
       "      <td>-0.052382</td>\n",
       "      <td>0.181789</td>\n",
       "      <td>0.164059</td>\n",
       "      <td>0.009554</td>\n",
       "      <td>0.048605</td>\n",
       "      <td>0.117298</td>\n",
       "      <td>-0.291539</td>\n",
       "    </tr>\n",
       "    <tr>\n",
       "      <th>eyeglasses</th>\n",
       "      <td>0.163555</td>\n",
       "      <td>1.000000</td>\n",
       "      <td>0.281175</td>\n",
       "      <td>0.016300</td>\n",
       "      <td>0.272326</td>\n",
       "      <td>-0.095168</td>\n",
       "      <td>0.004639</td>\n",
       "      <td>0.287882</td>\n",
       "      <td>0.105587</td>\n",
       "    </tr>\n",
       "    <tr>\n",
       "      <th>face_sunglasses</th>\n",
       "      <td>-0.052382</td>\n",
       "      <td>0.281175</td>\n",
       "      <td>1.000000</td>\n",
       "      <td>0.119256</td>\n",
       "      <td>0.047895</td>\n",
       "      <td>0.105953</td>\n",
       "      <td>0.131697</td>\n",
       "      <td>0.002710</td>\n",
       "      <td>0.121589</td>\n",
       "    </tr>\n",
       "    <tr>\n",
       "      <th>user_follows</th>\n",
       "      <td>0.181789</td>\n",
       "      <td>0.016300</td>\n",
       "      <td>0.119256</td>\n",
       "      <td>1.000000</td>\n",
       "      <td>0.112061</td>\n",
       "      <td>-0.081148</td>\n",
       "      <td>0.526154</td>\n",
       "      <td>0.078557</td>\n",
       "      <td>0.094081</td>\n",
       "    </tr>\n",
       "    <tr>\n",
       "      <th>face_mustache</th>\n",
       "      <td>0.164059</td>\n",
       "      <td>0.272326</td>\n",
       "      <td>0.047895</td>\n",
       "      <td>0.112061</td>\n",
       "      <td>1.000000</td>\n",
       "      <td>0.179361</td>\n",
       "      <td>0.043056</td>\n",
       "      <td>0.879054</td>\n",
       "      <td>0.043013</td>\n",
       "    </tr>\n",
       "    <tr>\n",
       "      <th>PERMA</th>\n",
       "      <td>0.009554</td>\n",
       "      <td>-0.095168</td>\n",
       "      <td>0.105953</td>\n",
       "      <td>-0.081148</td>\n",
       "      <td>0.179361</td>\n",
       "      <td>1.000000</td>\n",
       "      <td>0.034554</td>\n",
       "      <td>0.150999</td>\n",
       "      <td>-0.122192</td>\n",
       "    </tr>\n",
       "    <tr>\n",
       "      <th>user_followed_by</th>\n",
       "      <td>0.048605</td>\n",
       "      <td>0.004639</td>\n",
       "      <td>0.131697</td>\n",
       "      <td>0.526154</td>\n",
       "      <td>0.043056</td>\n",
       "      <td>0.034554</td>\n",
       "      <td>1.000000</td>\n",
       "      <td>-0.001208</td>\n",
       "      <td>0.163930</td>\n",
       "    </tr>\n",
       "    <tr>\n",
       "      <th>face_beard</th>\n",
       "      <td>0.117298</td>\n",
       "      <td>0.287882</td>\n",
       "      <td>0.002710</td>\n",
       "      <td>0.078557</td>\n",
       "      <td>0.879054</td>\n",
       "      <td>0.150999</td>\n",
       "      <td>-0.001208</td>\n",
       "      <td>1.000000</td>\n",
       "      <td>0.039973</td>\n",
       "    </tr>\n",
       "    <tr>\n",
       "      <th>user_posted_photos</th>\n",
       "      <td>-0.291539</td>\n",
       "      <td>0.105587</td>\n",
       "      <td>0.121589</td>\n",
       "      <td>0.094081</td>\n",
       "      <td>0.043013</td>\n",
       "      <td>-0.122192</td>\n",
       "      <td>0.163930</td>\n",
       "      <td>0.039973</td>\n",
       "      <td>1.000000</td>\n",
       "    </tr>\n",
       "  </tbody>\n",
       "</table>\n",
       "</div>"
      ],
      "text/plain": [
       "                    insta_user_id  eyeglasses  face_sunglasses  user_follows  \\\n",
       "insta_user_id            1.000000    0.163555        -0.052382      0.181789   \n",
       "eyeglasses               0.163555    1.000000         0.281175      0.016300   \n",
       "face_sunglasses         -0.052382    0.281175         1.000000      0.119256   \n",
       "user_follows             0.181789    0.016300         0.119256      1.000000   \n",
       "face_mustache            0.164059    0.272326         0.047895      0.112061   \n",
       "PERMA                    0.009554   -0.095168         0.105953     -0.081148   \n",
       "user_followed_by         0.048605    0.004639         0.131697      0.526154   \n",
       "face_beard               0.117298    0.287882         0.002710      0.078557   \n",
       "user_posted_photos      -0.291539    0.105587         0.121589      0.094081   \n",
       "\n",
       "                    face_mustache     PERMA  user_followed_by  face_beard  \\\n",
       "insta_user_id            0.164059  0.009554          0.048605    0.117298   \n",
       "eyeglasses               0.272326 -0.095168          0.004639    0.287882   \n",
       "face_sunglasses          0.047895  0.105953          0.131697    0.002710   \n",
       "user_follows             0.112061 -0.081148          0.526154    0.078557   \n",
       "face_mustache            1.000000  0.179361          0.043056    0.879054   \n",
       "PERMA                    0.179361  1.000000          0.034554    0.150999   \n",
       "user_followed_by         0.043056  0.034554          1.000000   -0.001208   \n",
       "face_beard               0.879054  0.150999         -0.001208    1.000000   \n",
       "user_posted_photos       0.043013 -0.122192          0.163930    0.039973   \n",
       "\n",
       "                    user_posted_photos  \n",
       "insta_user_id                -0.291539  \n",
       "eyeglasses                    0.105587  \n",
       "face_sunglasses               0.121589  \n",
       "user_follows                  0.094081  \n",
       "face_mustache                 0.043013  \n",
       "PERMA                        -0.122192  \n",
       "user_followed_by              0.163930  \n",
       "face_beard                    0.039973  \n",
       "user_posted_photos            1.000000  "
      ]
     },
     "execution_count": 32,
     "metadata": {},
     "output_type": "execute_result"
    }
   ],
   "source": [
    "matrix = both_aggr.corr()\n",
    "matrix"
   ]
  },
  {
   "cell_type": "code",
   "execution_count": 33,
   "metadata": {
    "collapsed": true
   },
   "outputs": [],
   "source": [
    "aggregation = {\n",
    "    'face_mustache' : 'mean'\n",
    "}"
   ]
  },
  {
   "cell_type": "code",
   "execution_count": 34,
   "metadata": {},
   "outputs": [
    {
     "name": "stdout",
     "output_type": "stream",
     "text": [
      "329\n"
     ]
    }
   ],
   "source": [
    "print survey.insta_user_id.nunique()"
   ]
  },
  {
   "cell_type": "code",
   "execution_count": 35,
   "metadata": {},
   "outputs": [
    {
     "name": "stdout",
     "output_type": "stream",
     "text": [
      "<class 'pandas.core.frame.DataFrame'>\n",
      "RangeIndex: 2464794 entries, 0 to 2464793\n",
      "Data columns (total 30 columns):\n",
      "Unnamed: 0                   int64\n",
      "index                        int64\n",
      "image_id                     object\n",
      "image_filter                 object\n",
      "user_id                      int64\n",
      "user_followed_by             float64\n",
      "user_follows                 float64\n",
      "user_posted_photos           float64\n",
      "anp_label                    object\n",
      "anp_sentiment                float64\n",
      "emotion_score                float64\n",
      "emotion_label                object\n",
      "data_amz_label               object\n",
      "data_amz_label_confidence    float64\n",
      "face_id                      float64\n",
      "face_gender                  object\n",
      "face_gender_confidence       float64\n",
      "face_age_range_high          float64\n",
      "face_age_range_low           float64\n",
      "face_sunglasses              bool\n",
      "face_beard                   bool\n",
      "face_beard_confidence        float64\n",
      "face_mustache                bool\n",
      "face_mustache_confidence     float64\n",
      "face_smile                   bool\n",
      "face_smile_confidence        float64\n",
      "eyeglasses                   bool\n",
      "eyeglasses_confidence        float64\n",
      "face_emo                     object\n",
      "emo_confidence               float64\n",
      "dtypes: bool(5), float64(15), int64(3), object(7)\n",
      "memory usage: 481.9+ MB\n"
     ]
    }
   ],
   "source": [
    "images.info()"
   ]
  },
  {
   "cell_type": "code",
   "execution_count": 54,
   "metadata": {},
   "outputs": [
    {
     "data": {
      "text/plain": [
       "silly_faces               45618\n",
       "comic_life                29844\n",
       "cute_couple               19212\n",
       "old_friends               18930\n",
       "happy_couple              15648\n",
       "true_story                15642\n",
       "ugly_sweater              15255\n",
       "great_day                 13770\n",
       "happy_birthday            13461\n",
       "lovely_ladies             12831\n",
       "cute_baby                 12807\n",
       "bad_hair                  12231\n",
       "early_days                12066\n",
       "happy_baby                11703\n",
       "hot_guys                  11226\n",
       "late_dinner               11226\n",
       "funny_quotes              11154\n",
       "great_grandmother         10602\n",
       "good_friends              10464\n",
       "plastic_surgery           10209\n",
       "double_portrait           10179\n",
       "big_glasses               10176\n",
       "fake_vintage              10023\n",
       "good_day                   9801\n",
       "formal_night               9399\n",
       "modern_family              9345\n",
       "happy_days                 9345\n",
       "happy_people               9267\n",
       "cute_guy                   9072\n",
       "grand_baby                 8973\n",
       "                          ...  \n",
       "crude_oil                     6\n",
       "sandy_pines                   6\n",
       "antique_bronze                6\n",
       "tiny_world                    6\n",
       "exotic_animals                6\n",
       "single_flower                 6\n",
       "abandoned_castle              6\n",
       "modern_cars                   6\n",
       "wild_plants                   6\n",
       "endangered_species            6\n",
       "weird_plant                   6\n",
       "medieval_history              6\n",
       "long_exsposure                6\n",
       "beautiful_architecture        6\n",
       "rare_species                  6\n",
       "creepy_places                 6\n",
       "decorative_plate              6\n",
       "industrial_building           6\n",
       "sacred_lotus                  6\n",
       "stinging_nettle               3\n",
       "famous_buildings              3\n",
       "fake_model                    3\n",
       "light_reflection              3\n",
       "industrial_lighting           3\n",
       "antique_gold                  3\n",
       "old_pier                      3\n",
       "hidden_gardens                3\n",
       "dark_day                      3\n",
       "rare_plant                    3\n",
       "contemporary_landscape        3\n",
       "Name: anp_label, Length: 3346, dtype: int64"
      ]
     },
     "execution_count": 54,
     "metadata": {},
     "output_type": "execute_result"
    }
   ],
   "source": [
    "images['anp_label'].value_counts()"
   ]
  },
  {
   "cell_type": "code",
   "execution_count": 46,
   "metadata": {},
   "outputs": [
    {
     "data": {
      "text/plain": [
       "Person           394047\n",
       "People           392466\n",
       "Human            392466\n",
       "Portrait          82665\n",
       "Poster            76203\n",
       "Face              72969\n",
       "Smile             69513\n",
       "Collage           52683\n",
       "Flyer             31878\n",
       "Clothing          23481\n",
       "Crowd             22461\n",
       "Female            20103\n",
       "Furniture         19308\n",
       "Brochure          18699\n",
       "Plant             18003\n",
       "Selfie            17190\n",
       "Potted Plant      15870\n",
       "Party             14955\n",
       "Couch             14658\n",
       "Woman             12324\n",
       "Blonde            11841\n",
       "Hair              11019\n",
       "Art               10500\n",
       "Team               9345\n",
       "Beverage           9051\n",
       "Goggles            9027\n",
       "Suit               8712\n",
       "Glasses            8652\n",
       "Drink              8472\n",
       "Performer          7857\n",
       "                  ...  \n",
       "Viaduct              15\n",
       "Dune                 15\n",
       "Cable Car            15\n",
       "Dolphin              15\n",
       "Bush                 15\n",
       "Arecaceae            15\n",
       "Pomegranate          15\n",
       "Emerald              15\n",
       "Raspberry            15\n",
       "Breaker              15\n",
       "Robot                15\n",
       "Life Buoy            15\n",
       "Amplifier            15\n",
       "Water Bottle         15\n",
       "Lamp Post            15\n",
       "Flip-Flop            15\n",
       "Gold                 15\n",
       "Monarch              15\n",
       "Confectionery        15\n",
       "Stained Glass        15\n",
       "Bean Sprout          15\n",
       "Volcano              15\n",
       "Cod                  15\n",
       "Head Cabbage         15\n",
       "Mold                 15\n",
       "Flugelhorn           15\n",
       "Ostrich              15\n",
       "Ski Boot             15\n",
       "Handball             15\n",
       "Blade                15\n",
       "Name: data_amz_label, Length: 1451, dtype: int64"
      ]
     },
     "execution_count": 46,
     "metadata": {},
     "output_type": "execute_result"
    }
   ],
   "source": [
    "images['data_amz_label'].value_counts()"
   ]
  },
  {
   "cell_type": "code",
   "execution_count": 51,
   "metadata": {},
   "outputs": [
    {
     "data": {
      "text/plain": [
       "97"
      ]
     },
     "execution_count": 51,
     "metadata": {},
     "output_type": "execute_result"
    }
   ],
   "source": [
    "images[images['data_amz_label'] == 'Selfie']['user_id'].nunique()"
   ]
  },
  {
   "cell_type": "code",
   "execution_count": 53,
   "metadata": {},
   "outputs": [
    {
     "data": {
      "text/plain": [
       "802"
      ]
     },
     "execution_count": 53,
     "metadata": {},
     "output_type": "execute_result"
    }
   ],
   "source": [
    "images[images['data_amz_label'] == 'Selfie']['image_id'].nunique()"
   ]
  },
  {
   "cell_type": "code",
   "execution_count": 67,
   "metadata": {},
   "outputs": [
    {
     "name": "stdout",
     "output_type": "stream",
     "text": [
      "<class 'pandas.core.frame.DataFrame'>\n",
      "RangeIndex: 2464794 entries, 0 to 2464793\n",
      "Data columns (total 30 columns):\n",
      "Unnamed: 0                   int64\n",
      "index                        int64\n",
      "image_id                     object\n",
      "image_filter                 object\n",
      "user_id                      int64\n",
      "user_followed_by             float64\n",
      "user_follows                 float64\n",
      "user_posted_photos           float64\n",
      "anp_label                    object\n",
      "anp_sentiment                float64\n",
      "emotion_score                float64\n",
      "emotion_label                object\n",
      "data_amz_label               object\n",
      "data_amz_label_confidence    float64\n",
      "face_id                      float64\n",
      "face_gender                  object\n",
      "face_gender_confidence       float64\n",
      "face_age_range_high          float64\n",
      "face_age_range_low           float64\n",
      "face_sunglasses              bool\n",
      "face_beard                   bool\n",
      "face_beard_confidence        float64\n",
      "face_mustache                bool\n",
      "face_mustache_confidence     float64\n",
      "face_smile                   bool\n",
      "face_smile_confidence        float64\n",
      "eyeglasses                   bool\n",
      "eyeglasses_confidence        float64\n",
      "face_emo                     object\n",
      "emo_confidence               float64\n",
      "dtypes: bool(5), float64(15), int64(3), object(7)\n",
      "memory usage: 481.9+ MB\n"
     ]
    }
   ],
   "source": [
    "images.info()"
   ]
  },
  {
   "cell_type": "code",
   "execution_count": 87,
   "metadata": {},
   "outputs": [
    {
     "name": "stdout",
     "output_type": "stream",
     "text": [
      "<class 'pandas.core.frame.DataFrame'>\n",
      "Int64Index: 2564457 entries, 0 to 2564456\n",
      "Data columns (total 76 columns):\n",
      "Unnamed: 0_x                 int64\n",
      "index                        int64\n",
      "image_id                     object\n",
      "image_filter                 object\n",
      "user_id                      object\n",
      "user_followed_by             float64\n",
      "user_follows                 float64\n",
      "user_posted_photos           float64\n",
      "anp_label                    object\n",
      "anp_sentiment                float64\n",
      "emotion_score                float64\n",
      "emotion_label                object\n",
      "data_amz_label               object\n",
      "data_amz_label_confidence    float64\n",
      "face_id                      float64\n",
      "face_gender                  object\n",
      "face_gender_confidence       float64\n",
      "face_age_range_high          float64\n",
      "face_age_range_low           float64\n",
      "face_sunglasses              bool\n",
      "face_beard                   bool\n",
      "face_beard_confidence        float64\n",
      "face_mustache                bool\n",
      "face_mustache_confidence     float64\n",
      "face_smile                   bool\n",
      "face_smile_confidence        float64\n",
      "eyeglasses                   bool\n",
      "eyeglasses_confidence        float64\n",
      "face_emo                     object\n",
      "emo_confidence               float64\n",
      "Unnamed: 0_y                 int64\n",
      "id                           object\n",
      "gender                       object\n",
      "born                         int64\n",
      "education                    object\n",
      "employed                     object\n",
      "income                       object\n",
      "A_2                          int64\n",
      "N_1                          int64\n",
      "P_1                          int64\n",
      "E_1                          int64\n",
      "A_1                          int64\n",
      "H_1                          int64\n",
      "M_1                          int64\n",
      "R_1                          int64\n",
      "M_2                          int64\n",
      "E_2                          int64\n",
      "LON                          int64\n",
      "H_2                          int64\n",
      "P_2                          int64\n",
      "N_2                          int64\n",
      "A_3                          int64\n",
      "N_3                          int64\n",
      "E_3                          int64\n",
      "H_3                          int64\n",
      "R_2                          int64\n",
      "M_3                          int64\n",
      "R_3                          int64\n",
      "P_3                          int64\n",
      "HAP                          float64\n",
      "participate                  object\n",
      "insta_user_id                float64\n",
      "completed                    bool\n",
      "start_q                      object\n",
      "end_q                        object\n",
      "network_id                   object\n",
      "P                            int64\n",
      "E                            float64\n",
      "R                            float64\n",
      "M                            float64\n",
      "A                            float64\n",
      "PERMA                        int64\n",
      "N_EMO                        float64\n",
      "P_EMO                        int64\n",
      "imagecount                   float64\n",
      "private_account              object\n",
      "dtypes: bool(6), float64(23), int64(29), object(18)\n",
      "memory usage: 1.4+ GB\n"
     ]
    }
   ],
   "source": [
    "both.info()"
   ]
  },
  {
   "cell_type": "code",
   "execution_count": 135,
   "metadata": {},
   "outputs": [],
   "source": [
    "selfies_columns = ['PERMA',\n",
    "                   'image_id',\n",
    "                   'face_sunglasses', \n",
    "                   'face_beard', \n",
    "                   'eyeglasses', \n",
    "                   'user_followed_by', \n",
    "                   'user_follows',\n",
    "                   'user_posted_photos',\n",
    "                   'insta_user_id',\n",
    "                   'gender',\n",
    "                   'born',\n",
    "                   'education',\n",
    "                   'income']\n",
    "selfies = both[both['data_amz_label'] == 'Selfie'][selfies_columns]\n",
    "\n",
    "selfies = selfies[selfies['income'] != 'I\\'d rather not disclose this information']\n",
    "\n",
    "selfies['female'] = np.where(selfies['gender'] == 'Female', True, False)\n",
    "\n",
    "selfies['college'] = np.where(selfies['education'] == 'College graduate', True, False)\n",
    "selfies['high_school'] = np.where(selfies['education'] == 'High school graduate', True, False)\n",
    "selfies['post_graduate'] = np.where(selfies['education'] == 'Post graduate degree', True, False)\n",
    "\n",
    "income_dict = {\n",
    "    'Less than $10,000': 5000,\n",
    "    '$10,000 to $19,999': 15000,\n",
    "    '$20,000 to $29,999': 25000,\n",
    "    '$30,000 to $39,999': 35000,\n",
    "    '$40,000 to $49,999': 45000,\n",
    "    '$50,000 to $59,999': 55000,\n",
    "    '$60,000 to $69,999': 65000,\n",
    "    '$70,000 to $79,999': 75000,\n",
    "    '$80,000 to $89,999': 85000,\n",
    "    '$90,000 to $99,999': 95000,\n",
    "    '$100,000 to $149,999': 125000,\n",
    "    '$150,000 or more': 150000\n",
    "}\n",
    "\n",
    "selfies['income'] = selfies.apply(lambda row: income_dict[row['income']], axis=1)\n",
    "del selfies['gender']\n",
    "del selfies['education']\n",
    "selfies.drop_duplicates(inplace=True)"
   ]
  },
  {
   "cell_type": "code",
   "execution_count": 136,
   "metadata": {},
   "outputs": [
    {
     "name": "stdout",
     "output_type": "stream",
     "text": [
      "<class 'pandas.core.frame.DataFrame'>\n",
      "Int64Index: 967 entries, 1383 to 2562969\n",
      "Data columns (total 15 columns):\n",
      "PERMA                 967 non-null int64\n",
      "image_id              967 non-null object\n",
      "face_sunglasses       967 non-null bool\n",
      "face_beard            967 non-null bool\n",
      "eyeglasses            967 non-null bool\n",
      "user_followed_by      967 non-null float64\n",
      "user_follows          967 non-null float64\n",
      "user_posted_photos    967 non-null float64\n",
      "insta_user_id         967 non-null float64\n",
      "born                  967 non-null int64\n",
      "income                967 non-null int64\n",
      "female                967 non-null bool\n",
      "college               967 non-null bool\n",
      "high_school           967 non-null bool\n",
      "post_graduate         967 non-null bool\n",
      "dtypes: bool(7), float64(4), int64(3), object(1)\n",
      "memory usage: 74.6+ KB\n"
     ]
    }
   ],
   "source": [
    "selfies.info()"
   ]
  },
  {
   "cell_type": "code",
   "execution_count": 140,
   "metadata": {},
   "outputs": [
    {
     "data": {
      "text/plain": [
       "93"
      ]
     },
     "execution_count": 140,
     "metadata": {},
     "output_type": "execute_result"
    }
   ],
   "source": [
    "selfies['insta_user_id'].nunique()"
   ]
  },
  {
   "cell_type": "code",
   "execution_count": 123,
   "metadata": {},
   "outputs": [
    {
     "data": {
      "text/plain": [
       "25000     4959\n",
       "35000     3006\n",
       "45000     2253\n",
       "55000     2019\n",
       "5000      1437\n",
       "85000     1224\n",
       "125000     765\n",
       "15000      750\n",
       "75000      555\n",
       "65000      423\n",
       "95000      315\n",
       "150000      30\n",
       "Name: income, dtype: int64"
      ]
     },
     "execution_count": 123,
     "metadata": {},
     "output_type": "execute_result"
    }
   ],
   "source": [
    "selfies['income'].value_counts()"
   ]
  },
  {
   "cell_type": "code",
   "execution_count": 103,
   "metadata": {},
   "outputs": [
    {
     "data": {
      "text/plain": [
       "College graduate        10467\n",
       "High school graduate     7104\n",
       "Post graduate degree      735\n",
       "Name: education, dtype: int64"
      ]
     },
     "execution_count": 103,
     "metadata": {},
     "output_type": "execute_result"
    }
   ],
   "source": [
    "selfies['education'].value_counts()"
   ]
  },
  {
   "cell_type": "code",
   "execution_count": 108,
   "metadata": {},
   "outputs": [
    {
     "data": {
      "text/plain": [
       "$20,000 to $29,999                          4959\n",
       "$30,000 to $39,999                          3006\n",
       "$40,000 to $49,999                          2253\n",
       "$50,000 to $59,999                          2019\n",
       "Less than $10,000                           1437\n",
       "$80,000 to $89,999                          1224\n",
       "$100,000 to $149,999                         765\n",
       "$10,000 to $19,999                           750\n",
       "I'd rather not disclose this information     570\n",
       "$70,000 to $79,999                           555\n",
       "$60,000 to $69,999                           423\n",
       "$90,000 to $99,999                           315\n",
       "$150,000 or more                              30\n",
       "Name: income, dtype: int64"
      ]
     },
     "execution_count": 108,
     "metadata": {},
     "output_type": "execute_result"
    }
   ],
   "source": [
    "selfies['income'].value_counts()"
   ]
  },
  {
   "cell_type": "code",
   "execution_count": 94,
   "metadata": {},
   "outputs": [
    {
     "data": {
      "text/plain": [
       "Female    2075886\n",
       "Male       488571\n",
       "Name: gender, dtype: int64"
      ]
     },
     "execution_count": 94,
     "metadata": {},
     "output_type": "execute_result"
    }
   ],
   "source": [
    "print(selfies.info())\n",
    "selfies.drop_duplicates()\n",
    "print(selfies.info())\n",
    "\n",
    "selfies_agg_dict = {}\n",
    "for column in selfies_columns:\n",
    "    selfies_agg_dict[column] = 'mean'\n",
    "print(selfies_agg_dict)\n",
    "selfies = selfies.groupby('insta_user_id', as_index=False).agg(selfies_agg_dict)"
   ]
  },
  {
   "cell_type": "code",
   "execution_count": 109,
   "metadata": {},
   "outputs": [
    {
     "data": {
      "text/plain": [
       "$30,000 to $39,999                          52\n",
       "$20,000 to $29,999                          44\n",
       "$40,000 to $49,999                          43\n",
       "$100,000 to $149,999                        34\n",
       "$50,000 to $59,999                          33\n",
       "Less than $10,000                           28\n",
       "$10,000 to $19,999                          23\n",
       "$70,000 to $79,999                          22\n",
       "$80,000 to $89,999                          14\n",
       "$90,000 to $99,999                          13\n",
       "$60,000 to $69,999                          10\n",
       "I'd rather not disclose this information     8\n",
       "$150,000 or more                             8\n",
       "Name: income, dtype: int64"
      ]
     },
     "execution_count": 109,
     "metadata": {},
     "output_type": "execute_result"
    }
   ],
   "source": [
    "survey['income'].value_counts()"
   ]
  },
  {
   "cell_type": "code",
   "execution_count": 70,
   "metadata": {},
   "outputs": [
    {
     "name": "stdout",
     "output_type": "stream",
     "text": [
      "<class 'pandas.core.frame.DataFrame'>\n",
      "Int64Index: 144 entries, 0 to 143\n",
      "Data columns (total 7 columns):\n",
      "user_id               144 non-null int64\n",
      "eyeglasses            144 non-null float64\n",
      "user_posted_photos    144 non-null float64\n",
      "user_followed_by      144 non-null float64\n",
      "face_beard            144 non-null float64\n",
      "face_sunglasses       144 non-null float64\n",
      "user_follows          144 non-null float64\n",
      "dtypes: float64(6), int64(1)\n",
      "memory usage: 9.0 KB\n"
     ]
    }
   ],
   "source": [
    "selfies.info()"
   ]
  },
  {
   "cell_type": "code",
   "execution_count": null,
   "metadata": {
    "collapsed": true
   },
   "outputs": [],
   "source": []
  }
 ],
 "metadata": {
  "kernelspec": {
   "display_name": "Python 2",
   "language": "python",
   "name": "python2"
  },
  "language_info": {
   "codemirror_mode": {
    "name": "ipython",
    "version": 2
   },
   "file_extension": ".py",
   "mimetype": "text/x-python",
   "name": "python",
   "nbconvert_exporter": "python",
   "pygments_lexer": "ipython2",
   "version": "2.7.12"
  }
 },
 "nbformat": 4,
 "nbformat_minor": 2
}
