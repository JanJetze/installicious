{
 "cells": [
  {
   "cell_type": "code",
   "execution_count": 1,
   "metadata": {
    "collapsed": true
   },
   "outputs": [],
   "source": [
    "import numpy as np\n",
    "import pandas as pd\n",
    "import matplotlib.pyplot as plt\n",
    "from pandas.tools.plotting import scatter_matrix\n",
    "from pprint import pprint\n",
    "import scipy as sp"
   ]
  },
  {
   "cell_type": "code",
   "execution_count": 2,
   "metadata": {
    "collapsed": true
   },
   "outputs": [],
   "source": [
    "images = pd.read_csv(\"C:/Users/Sinan/Desktop/image_frame.csv\", sep= \";\")\n",
    "\n",
    "# print images.head()\n",
    "survey = pd.read_csv(\"C:/Users/Sinan/Desktop/survey_frame.csv\", delimiter= \";\")\n",
    "# print survey.head()\n",
    "# print images[[\"user_id\"]]\n",
    "\n",
    "# print survey.loc[[4],[\"insta_user_id\"]]\n",
    "\n",
    "both= pd.merge(left=images, right= survey, on=None, left_on= \"user_id\", right_on=\"insta_user_id\")\n",
    "# print images.user_id.value_counts()\n",
    "# print survey.insta_user_id.value_counts()\n",
    "\n",
    "# print survey.insta_user_id.value_counts()\n",
    "# print both"
   ]
  },
  {
   "cell_type": "code",
   "execution_count": 9,
   "metadata": {},
   "outputs": [
    {
     "name": "stdout",
     "output_type": "stream",
     "text": [
      "(2464794, 30)\n",
      "(332, 46)\n",
      "(2564457, 76)\n"
     ]
    }
   ],
   "source": [
    "print images.shape\n",
    "print survey.shape\n",
    "print both.shape"
   ]
  },
  {
   "cell_type": "code",
   "execution_count": 10,
   "metadata": {},
   "outputs": [],
   "source": [
    "both_dropped = both.dropna(axis=0, how='any', thresh=None, subset=None, inplace=False)"
   ]
  },
  {
   "cell_type": "code",
   "execution_count": 11,
   "metadata": {},
   "outputs": [
    {
     "name": "stdout",
     "output_type": "stream",
     "text": [
      "(2550477, 76)\n"
     ]
    }
   ],
   "source": [
    "print both_dropped.shape"
   ]
  },
  {
   "cell_type": "code",
   "execution_count": null,
   "metadata": {
    "collapsed": true
   },
   "outputs": [],
   "source": [
    "del both_dropped['Unnamed: 0_x']"
   ]
  },
  {
   "cell_type": "code",
   "execution_count": null,
   "metadata": {
    "collapsed": true
   },
   "outputs": [],
   "source": [
    "both_dropped.set_index('user_id', inplace=True)"
   ]
  },
  {
   "cell_type": "code",
   "execution_count": 24,
   "metadata": {},
   "outputs": [
    {
     "name": "stdout",
     "output_type": "stream",
     "text": [
      "(2550477, 74)\n"
     ]
    },
    {
     "data": {
      "text/plain": [
       "Index([u'index', u'image_id', u'image_filter', u'user_followed_by',\n",
       "       u'user_follows', u'user_posted_photos', u'anp_label', u'anp_sentiment',\n",
       "       u'emotion_score', u'emotion_label', u'data_amz_label',\n",
       "       u'data_amz_label_confidence', u'face_id', u'face_gender',\n",
       "       u'face_gender_confidence', u'face_age_range_high',\n",
       "       u'face_age_range_low', u'face_sunglasses', u'face_beard',\n",
       "       u'face_beard_confidence', u'face_mustache', u'face_mustache_confidence',\n",
       "       u'face_smile', u'face_smile_confidence', u'eyeglasses',\n",
       "       u'eyeglasses_confidence', u'face_emo', u'emo_confidence',\n",
       "       u'Unnamed: 0_y', u'id', u'gender', u'born', u'education', u'employed',\n",
       "       u'income', u'A_2', u'N_1', u'P_1', u'E_1', u'A_1', u'H_1', u'M_1',\n",
       "       u'R_1', u'M_2', u'E_2', u'LON', u'H_2', u'P_2', u'N_2', u'A_3', u'N_3',\n",
       "       u'E_3', u'H_3', u'R_2', u'M_3', u'R_3', u'P_3', u'HAP', u'participate',\n",
       "       u'insta_user_id', u'completed', u'start_q', u'end_q', u'network_id',\n",
       "       u'P', u'E', u'R', u'M', u'A', u'PERMA', u'N_EMO', u'P_EMO',\n",
       "       u'imagecount', u'private_account'],\n",
       "      dtype='object')"
      ]
     },
     "execution_count": 24,
     "metadata": {},
     "output_type": "execute_result"
    }
   ],
   "source": [
    "print both_dropped.shape\n",
    "both_dropped.columns"
   ]
  },
  {
   "cell_type": "code",
   "execution_count": 26,
   "metadata": {},
   "outputs": [],
   "source": [
    "del both_dropped['P_1']\n",
    "del both_dropped['P_2']\n",
    "del both_dropped['P_3']\n",
    "del both_dropped['E_1']\n",
    "del both_dropped['E_2']\n",
    "del both_dropped['E_3']\n",
    "del both_dropped['R_1']\n",
    "del both_dropped['R_2']\n",
    "del both_dropped['R_3']\n",
    "del both_dropped['M_1']\n",
    "del both_dropped['M_2']\n",
    "del both_dropped['M_3']\n",
    "del both_dropped['A_1']\n",
    "del both_dropped['A_2']\n",
    "del both_dropped['A_3']\n",
    "del both_dropped['P']\n",
    "del both_dropped['E']\n",
    "del both_dropped['R']\n",
    "del both_dropped['M']\n",
    "del both_dropped['A']"
   ]
  },
  {
   "cell_type": "code",
   "execution_count": 29,
   "metadata": {},
   "outputs": [
    {
     "name": "stdout",
     "output_type": "stream",
     "text": [
      "(2550477, 54)\n",
      "Index([u'index', u'image_id', u'image_filter', u'user_followed_by',\n",
      "       u'user_follows', u'user_posted_photos', u'anp_label', u'anp_sentiment',\n",
      "       u'emotion_score', u'emotion_label', u'data_amz_label',\n",
      "       u'data_amz_label_confidence', u'face_id', u'face_gender',\n",
      "       u'face_gender_confidence', u'face_age_range_high',\n",
      "       u'face_age_range_low', u'face_sunglasses', u'face_beard',\n",
      "       u'face_beard_confidence', u'face_mustache', u'face_mustache_confidence',\n",
      "       u'face_smile', u'face_smile_confidence', u'eyeglasses',\n",
      "       u'eyeglasses_confidence', u'face_emo', u'emo_confidence',\n",
      "       u'Unnamed: 0_y', u'id', u'gender', u'born', u'education', u'employed',\n",
      "       u'income', u'N_1', u'H_1', u'LON', u'H_2', u'N_2', u'N_3', u'H_3',\n",
      "       u'HAP', u'participate', u'insta_user_id', u'completed', u'start_q',\n",
      "       u'end_q', u'network_id', u'PERMA', u'N_EMO', u'P_EMO', u'imagecount',\n",
      "       u'private_account'],\n",
      "      dtype='object')\n"
     ]
    }
   ],
   "source": [
    "print both_dropped.shape\n",
    "print both_dropped.columns"
   ]
  },
  {
   "cell_type": "code",
   "execution_count": 38,
   "metadata": {},
   "outputs": [
    {
     "data": {
      "text/plain": [
       "(2550477, 54)"
      ]
     },
     "execution_count": 38,
     "metadata": {},
     "output_type": "execute_result"
    }
   ],
   "source": [
    "both_dropped.shape"
   ]
  },
  {
   "cell_type": "code",
   "execution_count": 37,
   "metadata": {},
   "outputs": [],
   "source": [
    "both_dropped = both_dropped.drop_duplicates()"
   ]
  },
  {
   "cell_type": "code",
   "execution_count": 89,
   "metadata": {
    "scrolled": true
   },
   "outputs": [
    {
     "name": "stdout",
     "output_type": "stream",
     "text": [
      "(2550477, 11)\n",
      "(23192, 11)\n"
     ]
    }
   ],
   "source": [
    "both_dropped.dtypes\n",
    "bool_df = both_dropped[['insta_user_id','image_id','face_sunglasses', 'face_beard','face_mustache' ,'face_smile', 'eyeglasses','PERMA', 'user_followed_by', 'user_follows', 'user_posted_photos' ]]\n",
    "bool_df\n",
    "bool_df_dropped = bool_df.drop_duplicates()\n",
    "print bool_df.shape\n",
    "print bool_df_dropped.shape"
   ]
  },
  {
   "cell_type": "code",
   "execution_count": 93,
   "metadata": {},
   "outputs": [
    {
     "data": {
      "text/html": [
       "<div>\n",
       "<style>\n",
       "    .dataframe thead tr:only-child th {\n",
       "        text-align: right;\n",
       "    }\n",
       "\n",
       "    .dataframe thead th {\n",
       "        text-align: left;\n",
       "    }\n",
       "\n",
       "    .dataframe tbody tr th {\n",
       "        vertical-align: top;\n",
       "    }\n",
       "</style>\n",
       "<table border=\"1\" class=\"dataframe\">\n",
       "  <thead>\n",
       "    <tr style=\"text-align: right;\">\n",
       "      <th></th>\n",
       "      <th>insta_user_id</th>\n",
       "      <th>eyeglasses</th>\n",
       "      <th>face_sunglasses</th>\n",
       "      <th>user_follows</th>\n",
       "      <th>face_mustache</th>\n",
       "      <th>PERMA</th>\n",
       "      <th>user_followed_by</th>\n",
       "      <th>face_beard</th>\n",
       "      <th>user_posted_photos</th>\n",
       "    </tr>\n",
       "  </thead>\n",
       "  <tbody>\n",
       "    <tr>\n",
       "      <th>0</th>\n",
       "      <td>1619510.0</td>\n",
       "      <td>0.542986</td>\n",
       "      <td>0.107089</td>\n",
       "      <td>814.0</td>\n",
       "      <td>0.123680</td>\n",
       "      <td>4.0</td>\n",
       "      <td>364.0</td>\n",
       "      <td>0.147813</td>\n",
       "      <td>2037.0</td>\n",
       "    </tr>\n",
       "    <tr>\n",
       "      <th>1</th>\n",
       "      <td>2829661.0</td>\n",
       "      <td>0.204082</td>\n",
       "      <td>0.163265</td>\n",
       "      <td>288.0</td>\n",
       "      <td>0.142857</td>\n",
       "      <td>8.0</td>\n",
       "      <td>198.0</td>\n",
       "      <td>0.122449</td>\n",
       "      <td>124.0</td>\n",
       "    </tr>\n",
       "    <tr>\n",
       "      <th>2</th>\n",
       "      <td>3069744.0</td>\n",
       "      <td>0.245421</td>\n",
       "      <td>0.095238</td>\n",
       "      <td>240.0</td>\n",
       "      <td>0.293040</td>\n",
       "      <td>7.0</td>\n",
       "      <td>311.0</td>\n",
       "      <td>0.344322</td>\n",
       "      <td>350.0</td>\n",
       "    </tr>\n",
       "    <tr>\n",
       "      <th>3</th>\n",
       "      <td>3988856.0</td>\n",
       "      <td>0.248408</td>\n",
       "      <td>0.133758</td>\n",
       "      <td>943.0</td>\n",
       "      <td>0.191083</td>\n",
       "      <td>10.0</td>\n",
       "      <td>732.0</td>\n",
       "      <td>0.235669</td>\n",
       "      <td>610.0</td>\n",
       "    </tr>\n",
       "    <tr>\n",
       "      <th>4</th>\n",
       "      <td>4185084.0</td>\n",
       "      <td>0.750000</td>\n",
       "      <td>0.000000</td>\n",
       "      <td>65.0</td>\n",
       "      <td>0.500000</td>\n",
       "      <td>6.0</td>\n",
       "      <td>24.0</td>\n",
       "      <td>0.750000</td>\n",
       "      <td>64.0</td>\n",
       "    </tr>\n",
       "  </tbody>\n",
       "</table>\n",
       "</div>"
      ],
      "text/plain": [
       "   insta_user_id  eyeglasses  face_sunglasses  user_follows  face_mustache  \\\n",
       "0      1619510.0    0.542986         0.107089         814.0       0.123680   \n",
       "1      2829661.0    0.204082         0.163265         288.0       0.142857   \n",
       "2      3069744.0    0.245421         0.095238         240.0       0.293040   \n",
       "3      3988856.0    0.248408         0.133758         943.0       0.191083   \n",
       "4      4185084.0    0.750000         0.000000          65.0       0.500000   \n",
       "\n",
       "   PERMA  user_followed_by  face_beard  user_posted_photos  \n",
       "0    4.0             364.0    0.147813              2037.0  \n",
       "1    8.0             198.0    0.122449               124.0  \n",
       "2    7.0             311.0    0.344322               350.0  \n",
       "3   10.0             732.0    0.235669               610.0  \n",
       "4    6.0              24.0    0.750000                64.0  "
      ]
     },
     "execution_count": 93,
     "metadata": {},
     "output_type": "execute_result"
    }
   ],
   "source": [
    "both_aggr = bool_df_dropped.groupby(\"insta_user_id\", as_index= False).agg({\"face_sunglasses\":\"mean\", \n",
    "                                                          \"face_beard\": \"mean\", \n",
    "                                                          \"face_mustache\":\"mean\",\n",
    "                                                          \"eyeglasses\": \"mean\",\n",
    "                                                          \"PERMA\": \"mean\",\n",
    "                                                         \"user_followed_by\": \"mean\",\n",
    "                                                         \"user_follows\": \"mean\",\n",
    "                                                         \"user_posted_photos\": \"mean\"})\n",
    "both_aggr.head()"
   ]
  },
  {
   "cell_type": "code",
   "execution_count": 96,
   "metadata": {},
   "outputs": [
    {
     "data": {
      "text/html": [
       "<div>\n",
       "<style>\n",
       "    .dataframe thead tr:only-child th {\n",
       "        text-align: right;\n",
       "    }\n",
       "\n",
       "    .dataframe thead th {\n",
       "        text-align: left;\n",
       "    }\n",
       "\n",
       "    .dataframe tbody tr th {\n",
       "        vertical-align: top;\n",
       "    }\n",
       "</style>\n",
       "<table border=\"1\" class=\"dataframe\">\n",
       "  <thead>\n",
       "    <tr style=\"text-align: right;\">\n",
       "      <th></th>\n",
       "      <th>insta_user_id</th>\n",
       "      <th>eyeglasses</th>\n",
       "      <th>face_sunglasses</th>\n",
       "      <th>user_follows</th>\n",
       "      <th>face_mustache</th>\n",
       "      <th>PERMA</th>\n",
       "      <th>user_followed_by</th>\n",
       "      <th>face_beard</th>\n",
       "      <th>user_posted_photos</th>\n",
       "    </tr>\n",
       "  </thead>\n",
       "  <tbody>\n",
       "    <tr>\n",
       "      <th>insta_user_id</th>\n",
       "      <td>1.000000</td>\n",
       "      <td>0.163555</td>\n",
       "      <td>-0.052382</td>\n",
       "      <td>0.181789</td>\n",
       "      <td>0.164059</td>\n",
       "      <td>0.009554</td>\n",
       "      <td>0.048605</td>\n",
       "      <td>0.117298</td>\n",
       "      <td>-0.291539</td>\n",
       "    </tr>\n",
       "    <tr>\n",
       "      <th>eyeglasses</th>\n",
       "      <td>0.163555</td>\n",
       "      <td>1.000000</td>\n",
       "      <td>0.281175</td>\n",
       "      <td>0.016300</td>\n",
       "      <td>0.272326</td>\n",
       "      <td>-0.095168</td>\n",
       "      <td>0.004639</td>\n",
       "      <td>0.287882</td>\n",
       "      <td>0.105587</td>\n",
       "    </tr>\n",
       "    <tr>\n",
       "      <th>face_sunglasses</th>\n",
       "      <td>-0.052382</td>\n",
       "      <td>0.281175</td>\n",
       "      <td>1.000000</td>\n",
       "      <td>0.119256</td>\n",
       "      <td>0.047895</td>\n",
       "      <td>0.105953</td>\n",
       "      <td>0.131697</td>\n",
       "      <td>0.002710</td>\n",
       "      <td>0.121589</td>\n",
       "    </tr>\n",
       "    <tr>\n",
       "      <th>user_follows</th>\n",
       "      <td>0.181789</td>\n",
       "      <td>0.016300</td>\n",
       "      <td>0.119256</td>\n",
       "      <td>1.000000</td>\n",
       "      <td>0.112061</td>\n",
       "      <td>-0.081148</td>\n",
       "      <td>0.526154</td>\n",
       "      <td>0.078557</td>\n",
       "      <td>0.094081</td>\n",
       "    </tr>\n",
       "    <tr>\n",
       "      <th>face_mustache</th>\n",
       "      <td>0.164059</td>\n",
       "      <td>0.272326</td>\n",
       "      <td>0.047895</td>\n",
       "      <td>0.112061</td>\n",
       "      <td>1.000000</td>\n",
       "      <td>0.179361</td>\n",
       "      <td>0.043056</td>\n",
       "      <td>0.879054</td>\n",
       "      <td>0.043013</td>\n",
       "    </tr>\n",
       "    <tr>\n",
       "      <th>PERMA</th>\n",
       "      <td>0.009554</td>\n",
       "      <td>-0.095168</td>\n",
       "      <td>0.105953</td>\n",
       "      <td>-0.081148</td>\n",
       "      <td>0.179361</td>\n",
       "      <td>1.000000</td>\n",
       "      <td>0.034554</td>\n",
       "      <td>0.150999</td>\n",
       "      <td>-0.122192</td>\n",
       "    </tr>\n",
       "    <tr>\n",
       "      <th>user_followed_by</th>\n",
       "      <td>0.048605</td>\n",
       "      <td>0.004639</td>\n",
       "      <td>0.131697</td>\n",
       "      <td>0.526154</td>\n",
       "      <td>0.043056</td>\n",
       "      <td>0.034554</td>\n",
       "      <td>1.000000</td>\n",
       "      <td>-0.001208</td>\n",
       "      <td>0.163930</td>\n",
       "    </tr>\n",
       "    <tr>\n",
       "      <th>face_beard</th>\n",
       "      <td>0.117298</td>\n",
       "      <td>0.287882</td>\n",
       "      <td>0.002710</td>\n",
       "      <td>0.078557</td>\n",
       "      <td>0.879054</td>\n",
       "      <td>0.150999</td>\n",
       "      <td>-0.001208</td>\n",
       "      <td>1.000000</td>\n",
       "      <td>0.039973</td>\n",
       "    </tr>\n",
       "    <tr>\n",
       "      <th>user_posted_photos</th>\n",
       "      <td>-0.291539</td>\n",
       "      <td>0.105587</td>\n",
       "      <td>0.121589</td>\n",
       "      <td>0.094081</td>\n",
       "      <td>0.043013</td>\n",
       "      <td>-0.122192</td>\n",
       "      <td>0.163930</td>\n",
       "      <td>0.039973</td>\n",
       "      <td>1.000000</td>\n",
       "    </tr>\n",
       "  </tbody>\n",
       "</table>\n",
       "</div>"
      ],
      "text/plain": [
       "                    insta_user_id  eyeglasses  face_sunglasses  user_follows  \\\n",
       "insta_user_id            1.000000    0.163555        -0.052382      0.181789   \n",
       "eyeglasses               0.163555    1.000000         0.281175      0.016300   \n",
       "face_sunglasses         -0.052382    0.281175         1.000000      0.119256   \n",
       "user_follows             0.181789    0.016300         0.119256      1.000000   \n",
       "face_mustache            0.164059    0.272326         0.047895      0.112061   \n",
       "PERMA                    0.009554   -0.095168         0.105953     -0.081148   \n",
       "user_followed_by         0.048605    0.004639         0.131697      0.526154   \n",
       "face_beard               0.117298    0.287882         0.002710      0.078557   \n",
       "user_posted_photos      -0.291539    0.105587         0.121589      0.094081   \n",
       "\n",
       "                    face_mustache     PERMA  user_followed_by  face_beard  \\\n",
       "insta_user_id            0.164059  0.009554          0.048605    0.117298   \n",
       "eyeglasses               0.272326 -0.095168          0.004639    0.287882   \n",
       "face_sunglasses          0.047895  0.105953          0.131697    0.002710   \n",
       "user_follows             0.112061 -0.081148          0.526154    0.078557   \n",
       "face_mustache            1.000000  0.179361          0.043056    0.879054   \n",
       "PERMA                    0.179361  1.000000          0.034554    0.150999   \n",
       "user_followed_by         0.043056  0.034554          1.000000   -0.001208   \n",
       "face_beard               0.879054  0.150999         -0.001208    1.000000   \n",
       "user_posted_photos       0.043013 -0.122192          0.163930    0.039973   \n",
       "\n",
       "                    user_posted_photos  \n",
       "insta_user_id                -0.291539  \n",
       "eyeglasses                    0.105587  \n",
       "face_sunglasses               0.121589  \n",
       "user_follows                  0.094081  \n",
       "face_mustache                 0.043013  \n",
       "PERMA                        -0.122192  \n",
       "user_followed_by              0.163930  \n",
       "face_beard                    0.039973  \n",
       "user_posted_photos            1.000000  "
      ]
     },
     "execution_count": 96,
     "metadata": {},
     "output_type": "execute_result"
    }
   ],
   "source": [
    "matrix = both_aggr.corr()\n",
    "matrix"
   ]
  },
  {
   "cell_type": "code",
   "execution_count": null,
   "metadata": {
    "collapsed": true
   },
   "outputs": [],
   "source": [
    "aggregation = {\n",
    "    'face_mustache' : 'mean'\n",
    "}"
   ]
  },
  {
   "cell_type": "code",
   "execution_count": 76,
   "metadata": {},
   "outputs": [
    {
     "name": "stdout",
     "output_type": "stream",
     "text": [
      "329\n"
     ]
    }
   ],
   "source": [
    "print survey.insta_user_id.nunique()"
   ]
  }
 ],
 "metadata": {
  "kernelspec": {
   "display_name": "Python 2",
   "language": "python",
   "name": "python2"
  },
  "language_info": {
   "codemirror_mode": {
    "name": "ipython",
    "version": 2
   },
   "file_extension": ".py",
   "mimetype": "text/x-python",
   "name": "python",
   "nbconvert_exporter": "python",
   "pygments_lexer": "ipython2",
   "version": "2.7.13"
  }
 },
 "nbformat": 4,
 "nbformat_minor": 2
}
