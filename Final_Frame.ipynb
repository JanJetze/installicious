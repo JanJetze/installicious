{
 "cells": [
  {
   "cell_type": "code",
   "execution_count": 220,
   "metadata": {
    "collapsed": true
   },
   "outputs": [],
   "source": [
    "import numpy as np\n",
    "import pandas as pd\n",
    "import matplotlib.pyplot as plt\n",
    "from pandas.tools.plotting import scatter_matrix\n",
    "from pprint import pprint\n",
    "import scipy as sp"
   ]
  },
  {
   "cell_type": "code",
   "execution_count": 221,
   "metadata": {
    "collapsed": true
   },
   "outputs": [],
   "source": [
    "PATH = '../'\n",
    "images = pd.read_csv(PATH + \"image_frame.csv\", sep= \";\")\n",
    "\n",
    "survey = pd.read_csv(PATH + \"survey_frame.csv\", delimiter= \";\")\n",
    "\n",
    "both= pd.merge(left=images, right= survey, on=None, left_on= \"user_id\", right_on=\"insta_user_id\")"
   ]
  },
  {
   "cell_type": "code",
   "execution_count": 222,
   "metadata": {
    "collapsed": true
   },
   "outputs": [],
   "source": [
    "selfies_columns = ['PERMA',\n",
    "                   'image_id',\n",
    "                   'face_sunglasses', \n",
    "                   'face_beard', \n",
    "                   'face_mustache',\n",
    "                   'eyeglasses', \n",
    "                   'user_followed_by', \n",
    "                   'user_follows',\n",
    "                   'user_posted_photos',\n",
    "                   'insta_user_id',\n",
    "                   'gender',\n",
    "                   'born',\n",
    "                   'emotion_score',\n",
    "                   'education',\n",
    "                   'income']"
   ]
  },
  {
   "cell_type": "code",
   "execution_count": 223,
   "metadata": {
    "collapsed": true
   },
   "outputs": [],
   "source": [
    "income_dict = {\n",
    "    'Less than $10,000': 5000,\n",
    "    '$10,000 to $19,999': 15000,\n",
    "    '$20,000 to $29,999': 25000,\n",
    "    '$30,000 to $39,999': 35000,\n",
    "    '$40,000 to $49,999': 45000,\n",
    "    '$50,000 to $59,999': 55000,\n",
    "    '$60,000 to $69,999': 65000,\n",
    "    '$70,000 to $79,999': 75000,\n",
    "    '$80,000 to $89,999': 85000,\n",
    "    '$90,000 to $99,999': 95000,\n",
    "    '$100,000 to $149,999': 125000,\n",
    "    '$150,000 or more': 150000\n",
    "}"
   ]
  },
  {
   "cell_type": "code",
   "execution_count": 224,
   "metadata": {},
   "outputs": [],
   "source": [
    "selfies = both[both['data_amz_label'] == 'Selfie'][selfies_columns]\n",
    "\n",
    "selfies = selfies[selfies['income'] != 'I\\'d rather not disclose this information']\n",
    "\n",
    "selfies['female'] = np.where(selfies['gender'] == 'Female', True, False)\n",
    "\n",
    "selfies['college'] = np.where(selfies['education'] == 'College graduate', True, False)\n",
    "selfies['high_school'] = np.where(selfies['education'] == 'High school graduate', True, False)\n",
    "selfies['post_graduate'] = np.where(selfies['education'] == 'Post graduate degree', True, False)\n",
    "\n",
    "selfies['income'] = selfies.apply(lambda row: income_dict[row['income']], axis=1)\n",
    "del selfies['gender']\n",
    "del selfies['education']\n",
    "selfies.drop_duplicates(inplace=True)"
   ]
  },
  {
   "cell_type": "code",
   "execution_count": 225,
   "metadata": {},
   "outputs": [],
   "source": [
    "selfies = selfies.groupby('image_id', as_index=False).agg({\n",
    "    'emotion_score': 'mean',\n",
    "    'face_sunglasses': 'max',\n",
    "    'face_beard': 'max',\n",
    "    'face_mustache': 'max',\n",
    "    'eyeglasses': 'max',\n",
    "    'PERMA': 'max',\n",
    "    'user_followed_by': 'max',\n",
    "    'user_follows': 'max',\n",
    "    'user_posted_photos': 'max',\n",
    "    'insta_user_id': 'max',\n",
    "    'born': 'max',\n",
    "    'income': 'max',\n",
    "    'female': 'max',\n",
    "    'college': 'max',\n",
    "    'high_school': 'max',\n",
    "    'post_graduate': 'max'\n",
    "})"
   ]
  },
  {
   "cell_type": "code",
   "execution_count": 226,
   "metadata": {
    "collapsed": true
   },
   "outputs": [],
   "source": [
    "selfies.to_csv('selfies_frame.csv', sep=';', encoding='utf-8')"
   ]
  },
  {
   "cell_type": "code",
   "execution_count": 227,
   "metadata": {
    "collapsed": true
   },
   "outputs": [],
   "source": [
    "users = selfies.groupby('insta_user_id', as_index=False).agg({\n",
    "    'face_sunglasses': 'mean',\n",
    "    'face_beard': 'mean',\n",
    "    'face_mustache': 'mean',\n",
    "    'eyeglasses': 'mean',\n",
    "    'image_id': 'count',\n",
    "    'PERMA': 'max',\n",
    "    'user_followed_by': 'max',\n",
    "    'user_follows': 'max',\n",
    "    'user_posted_photos': 'max',\n",
    "    'born': 'max',\n",
    "    'income': 'max',\n",
    "    'female': 'max',\n",
    "    'college': 'max',\n",
    "    'high_school': 'max',\n",
    "    'post_graduate': 'max',\n",
    "    'emotion_score': 'mean'\n",
    "})"
   ]
  },
  {
   "cell_type": "code",
   "execution_count": 228,
   "metadata": {},
   "outputs": [
    {
     "name": "stdout",
     "output_type": "stream",
     "text": [
      "<class 'pandas.core.frame.DataFrame'>\n",
      "Int64Index: 91 entries, 0 to 90\n",
      "Data columns (total 17 columns):\n",
      "insta_user_id         91 non-null int64\n",
      "face_sunglasses       91 non-null float64\n",
      "user_posted_photos    91 non-null float64\n",
      "born                  91 non-null int64\n",
      "face_mustache         91 non-null float64\n",
      "post_graduate         91 non-null bool\n",
      "user_followed_by      91 non-null float64\n",
      "face_beard            91 non-null float64\n",
      "image_id              91 non-null int64\n",
      "eyeglasses            91 non-null float64\n",
      "college               91 non-null bool\n",
      "female                91 non-null bool\n",
      "income                91 non-null int64\n",
      "emotion_score         91 non-null float64\n",
      "PERMA                 91 non-null int64\n",
      "high_school           91 non-null bool\n",
      "user_follows          91 non-null float64\n",
      "dtypes: bool(4), float64(8), int64(5)\n",
      "memory usage: 10.3 KB\n"
     ]
    }
   ],
   "source": [
    "users.info()"
   ]
  },
  {
   "cell_type": "code",
   "execution_count": 237,
   "metadata": {},
   "outputs": [
    {
     "name": "stdout",
     "output_type": "stream",
     "text": [
      "<class 'pandas.core.frame.DataFrame'>\n",
      "Int64Index: 91 entries, 0 to 90\n",
      "Data columns (total 17 columns):\n",
      "insta_user_id         91 non-null int64\n",
      "face_sunglasses       91 non-null float64\n",
      "user_posted_photos    91 non-null int64\n",
      "born                  91 non-null int64\n",
      "face_mustache         91 non-null float64\n",
      "post_graduate         91 non-null bool\n",
      "user_followed_by      91 non-null int64\n",
      "face_beard            91 non-null float64\n",
      "image_id              91 non-null int64\n",
      "eyeglasses            91 non-null float64\n",
      "college               91 non-null bool\n",
      "female                91 non-null bool\n",
      "income                91 non-null int64\n",
      "emotion_score         91 non-null float64\n",
      "PERMA                 91 non-null int64\n",
      "high_school           91 non-null bool\n",
      "user_follows          91 non-null int64\n",
      "dtypes: bool(4), float64(5), int64(8)\n",
      "memory usage: 10.3 KB\n"
     ]
    }
   ],
   "source": [
    "users['user_follows'] = users['user_follows'].astype(int)\n",
    "users['user_followed_by'] = users['user_followed_by'].astype(int)\n",
    "users['user_posted_photos'] = users['user_posted_photos'].astype(int)\n",
    "users.info()"
   ]
  },
  {
   "cell_type": "code",
   "execution_count": 238,
   "metadata": {},
   "outputs": [],
   "source": [
    "users.to_csv('users_frame.csv', sep=';', encoding='utf-8')"
   ]
  }
 ],
 "metadata": {
  "kernelspec": {
   "display_name": "Python 2",
   "language": "python",
   "name": "python2"
  },
  "language_info": {
   "codemirror_mode": {
    "name": "ipython",
    "version": 2
   },
   "file_extension": ".py",
   "mimetype": "text/x-python",
   "name": "python",
   "nbconvert_exporter": "python",
   "pygments_lexer": "ipython2",
   "version": "2.7.12"
  }
 },
 "nbformat": 4,
 "nbformat_minor": 2
}
